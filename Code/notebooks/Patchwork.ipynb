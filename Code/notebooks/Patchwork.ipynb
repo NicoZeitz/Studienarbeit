{
 "cells": [
  {
   "cell_type": "code",
   "execution_count": 3,
   "id": "eebb5c5f-b9ec-46f8-8e9a-30b9cbde450d",
   "metadata": {},
   "outputs": [
    {
     "name": "stdout",
     "output_type": "stream",
     "text": [
      "======================= GAME 0 ENDED AFTER 52 TURNS =======================\n",
      "Current player is Player 1 (Random)\n",
      "\n",
      "Player 'Player 1 (Random)' (button balance: 17):  │  Player 'Player 2 (Random)' (button balance: 24):\n",
      "██████░░█                                         │  ████░░██░\n",
      "░████████                                         │  ███░███░░\n",
      "█████████                                         │  █░█░█░█░░\n",
      "██████░██                                         │  █░░██████\n",
      "██░█░█░█░                                         │  █░█░░░░██\n",
      "░█████░█░                                         │  █████████\n",
      "░████████                                         │  █░█░░░███\n",
      "░████████                                         │  ░░███████\n",
      "░████░█░█                                         │  ████░░███\n",
      "Button income: 6                                  │  Button income: 9\n",
      "\n",
      "Time board:\n",
      "┌─┬─┬─┬─┬─┬─┬─┬─┬─┬─┬─┬─┬─┬─┬─┬─┬─┬─┬─┬─┬─┬─┬─┬─┬─┬─┬─┬─┬─┬─┬─┬─┬─┬─┬─┬─┬─┬─┬─┬─┬─┬─┬─┬─┬─┬─┬─┬─┬─┬─┬─┬─┬─┬───┐\n",
      "│ │ │ │ │ │B│ │ │ │ │ │B│ │ │ │ │ │B│ │ │ │ │ │B│ │ │ │ │ │B│ │ │ │ │ │B│ │ │ │ │ │B│ │ │ │ │ │B│ │ │ │ │ │12B│\n",
      "└─┴─┴─┴─┴─┴─┴─┴─┴─┴─┴─┴─┴─┴─┴─┴─┴─┴─┴─┴─┴─┴─┴─┴─┴─┴─┴─┴─┴─┴─┴─┴─┴─┴─┴─┴─┴─┴─┴─┴─┴─┴─┴─┴─┴─┴─┴─┴─┴─┴─┴─┴─┴─┴───┘\n",
      "Next 3 patches:\n",
      "██                                   █             \n",
      "██                                   █             \n",
      " █                  █               ██             \n",
      " █                ████              █              \n",
      "Income: 3         Income: 1         Income: 1      \n",
      "Button cost: 10   Button cost: 3    Button cost: 2 \n",
      "Time cost: 5      Time cost: 4      Time cost: 3   \n",
      "                                                   \n",
      "\n",
      "\n",
      "\n",
      "Player Player 1 (Random) won\n",
      "Game took 52 turns\n",
      "Player 'Player 1 (Random)' score: -15\n",
      "Player 'Player 2 (Random)' score: -28\n",
      "Average get_valid_actions time: 14.580880768055348ms\n",
      "Average get_next_state time: 0.6195038474218634ms\n",
      "Average get_value_and_terminated time: 0.004657693632627623ms\n",
      "Average get_player_1_action time: 0.019142306812752325ms\n",
      "Average get_player_2_action time: 0.019334618208141856ms\n"
     ]
    }
   ],
   "source": [
    "%load_ext autoreload\n",
    "%autoreload 2\n",
    "\n",
    "from patchwork import Game as PatchworkGame\n",
    "import numpy as np\n",
    "from timeit import default_timer as timer\n",
    "from patchwork import GameLoop\n",
    "\n",
    "game_loop = GameLoop()\n",
    "game_loop.test(amount=1, sleep=0.4)"
   ]
  }
 ],
 "metadata": {
  "kernelspec": {
   "display_name": "Python [conda env:kernel]",
   "language": "python",
   "name": "conda-env-kernel-py"
  },
  "language_info": {
   "codemirror_mode": {
    "name": "ipython",
    "version": 3
   },
   "file_extension": ".py",
   "mimetype": "text/x-python",
   "name": "python",
   "nbconvert_exporter": "python",
   "pygments_lexer": "ipython3",
   "version": "3.11.5"
  }
 },
 "nbformat": 4,
 "nbformat_minor": 5
}
