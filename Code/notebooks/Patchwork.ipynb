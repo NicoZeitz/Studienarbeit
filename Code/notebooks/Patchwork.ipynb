{
 "cells": [
  {
   "cell_type": "code",
   "execution_count": 7,
   "id": "eebb5c5f-b9ec-46f8-8e9a-30b9cbde450d",
   "metadata": {},
   "outputs": [
    {
     "name": "stdout",
     "output_type": "stream",
     "text": [
      "======================= GAME 0 TURN 46 =======================\n",
      "Current player is Player 1\n",
      "\n",
      "Player 'Player 1' (button balance: 2):  │  Player 'Player 2' (button balance: 27):\n",
      "█████░███                               │  ░░█░░░░░█\n",
      "████░░██░                               │  █░███░███\n",
      "██░█░████                               │  ██░░░████\n",
      "█████░██░                               │  ████░██░█\n",
      "░████████                               │  █░███████\n",
      "█████████                               │  ██░████░█\n",
      "█████████                               │  ████████░\n",
      "█████████                               │  ██░█████░\n",
      "█░███████                               │  ██░██░█░░\n",
      "Button income: 9                        │  Button income: 8\n",
      "\n",
      "Time board:\n",
      "┌─┬─┬─┬─┬─┬─┬─┬─┬─┬─┬─┬─┬─┬─┬─┬─┬─┬─┬─┬─┬─┬─┬─┬─┬─┬─┬─┬─┬─┬─┬─┬─┬─┬─┬─┬─┬─┬─┬─┬─┬─┬─┬─┬─┬─┬─┬─┬─┬─┬─┬─┬─┬─┬──┐\n",
      "│ │ │ │ │ │B│ │ │ │ │ │B│ │ │ │ │ │B│ │ │ │ │ │B│ │ │ │ │ │B│ │ │ │ │ │B│ │ │ │ │ │B│ │ │ │ │ │B│ │ │ │ │1│2B│\n",
      "└─┴─┴─┴─┴─┴─┴─┴─┴─┴─┴─┴─┴─┴─┴─┴─┴─┴─┴─┴─┴─┴─┴─┴─┴─┴─┴─┴─┴─┴─┴─┴─┴─┴─┴─┴─┴─┴─┴─┴─┴─┴─┴─┴─┴─┴─┴─┴─┴─┴─┴─┴─┴─┴──┘\n",
      "Next 3 patches:\n",
      "██                                                 \n",
      " █                 █                               \n",
      " █                ███               ██             \n",
      "██                 █                ██             \n",
      "Income: 1         Income: 2         Income: 2      \n",
      "Button cost: 1    Button cost: 5    Button cost: 6 \n",
      "Time cost: 5      Time cost: 4      Time cost: 5   \n",
      "                                                   \n",
      "Player 'Player 1' chose action 1: Action 0 - Walking\n",
      "======================= GAME ENDED =======================\n",
      "Current player is Player 2\n",
      "\n",
      "Player 'Player 1' (button balance: 13):  │  Player 'Player 2' (button balance: 27):\n",
      "█████░███                                │  ░░█░░░░░█\n",
      "████░░██░                                │  █░███░███\n",
      "██░█░████                                │  ██░░░████\n",
      "█████░██░                                │  ████░██░█\n",
      "░████████                                │  █░███████\n",
      "█████████                                │  ██░████░█\n",
      "█████████                                │  ████████░\n",
      "█████████                                │  ██░█████░\n",
      "█░███████                                │  ██░██░█░░\n",
      "Button income: 9                         │  Button income: 8\n",
      "\n",
      "Time board:\n",
      "┌─┬─┬─┬─┬─┬─┬─┬─┬─┬─┬─┬─┬─┬─┬─┬─┬─┬─┬─┬─┬─┬─┬─┬─┬─┬─┬─┬─┬─┬─┬─┬─┬─┬─┬─┬─┬─┬─┬─┬─┬─┬─┬─┬─┬─┬─┬─┬─┬─┬─┬─┬─┬─┬───┐\n",
      "│ │ │ │ │ │B│ │ │ │ │ │B│ │ │ │ │ │B│ │ │ │ │ │B│ │ │ │ │ │B│ │ │ │ │ │B│ │ │ │ │ │B│ │ │ │ │ │B│ │ │ │ │ │12B│\n",
      "└─┴─┴─┴─┴─┴─┴─┴─┴─┴─┴─┴─┴─┴─┴─┴─┴─┴─┴─┴─┴─┴─┴─┴─┴─┴─┴─┴─┴─┴─┴─┴─┴─┴─┴─┴─┴─┴─┴─┴─┴─┴─┴─┴─┴─┴─┴─┴─┴─┴─┴─┴─┴─┴───┘\n",
      "Next 3 patches:\n",
      "██                                                 \n",
      " █                 █                               \n",
      " █                ███               ██             \n",
      "██                 █                ██             \n",
      "Income: 1         Income: 2         Income: 2      \n",
      "Button cost: 1    Button cost: 5    Button cost: 6 \n",
      "Time cost: 5      Time cost: 4      Time cost: 5   \n",
      "                                                   \n",
      "\n",
      "\n",
      "\n",
      "Player Player 1 won\n"
     ]
    }
   ],
   "source": [
    "%load_ext autoreload\n",
    "%autoreload 2\n",
    "\n",
    "from patchwork import Game as PatchworkGame\n",
    "import numpy as np\n",
    "from timeit import default_timer as timer\n",
    "from patchwork import GameLoop\n",
    "\n",
    "game_loop = GameLoop()\n",
    "game_loop.test(amount=1, sleep=0.4)"
   ]
  }
 ],
 "metadata": {
  "kernelspec": {
   "display_name": "Python [conda env:kernel]",
   "language": "python",
   "name": "conda-env-kernel-py"
  },
  "language_info": {
   "codemirror_mode": {
    "name": "ipython",
    "version": 3
   },
   "file_extension": ".py",
   "mimetype": "text/x-python",
   "name": "python",
   "nbconvert_exporter": "python",
   "pygments_lexer": "ipython3",
   "version": "3.11.5"
  }
 },
 "nbformat": 4,
 "nbformat_minor": 5
}
