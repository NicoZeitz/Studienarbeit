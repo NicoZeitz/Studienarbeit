{
 "cells": [
  {
   "cell_type": "code",
   "execution_count": 14,
   "id": "eaf80b91",
   "metadata": {},
   "outputs": [
    {
     "name": "stdout",
     "output_type": "stream",
     "text": [
      "The autoreload extension is already loaded. To reload it, use:\n",
      "  %reload_ext autoreload\n"
     ]
    }
   ],
   "source": [
    "%load_ext autoreload\n",
    "%autoreload 2"
   ]
  },
  {
   "cell_type": "code",
   "execution_count": 20,
   "id": "7b78e0de-42b8-41e5-9c97-c47cec0b3241",
   "metadata": {},
   "outputs": [
    {
     "ename": "TypeError",
     "evalue": "Game.get_take_and_place_a_patch_move() missing 3 required positional arguments: 'state', 'piece', and 'new_player_quilt_board'",
     "output_type": "error",
     "traceback": [
      "\u001b[1;31m---------------------------------------------------------------------------\u001b[0m",
      "\u001b[1;31mTypeError\u001b[0m                                 Traceback (most recent call last)",
      "\u001b[1;32mc:\\Users\\nicoz\\Dev\\Studienarbeit\\code\\notebooks\\Patchwork.ipynb Cell 2\u001b[0m line \u001b[0;36m5\n\u001b[0;32m      <a href='vscode-notebook-cell:/c%3A/Users/nicoz/Dev/Studienarbeit/code/notebooks/Patchwork.ipynb#W1sZmlsZQ%3D%3D?line=2'>3</a>\u001b[0m game \u001b[39m=\u001b[39m PatchworkGame()\n\u001b[0;32m      <a href='vscode-notebook-cell:/c%3A/Users/nicoz/Dev/Studienarbeit/code/notebooks/Patchwork.ipynb#W1sZmlsZQ%3D%3D?line=3'>4</a>\u001b[0m state \u001b[39m=\u001b[39m game\u001b[39m.\u001b[39mget_initial_state(seed\u001b[39m=\u001b[39m\u001b[39m42\u001b[39m)\n\u001b[1;32m----> <a href='vscode-notebook-cell:/c%3A/Users/nicoz/Dev/Studienarbeit/code/notebooks/Patchwork.ipynb#W1sZmlsZQ%3D%3D?line=4'>5</a>\u001b[0m \u001b[39mprint\u001b[39m(\u001b[39mlen\u001b[39m(game\u001b[39m.\u001b[39;49mget_valid_moves(state)))\n",
      "File \u001b[1;32mc:\\Users\\nicoz\\Dev\\Studienarbeit\\code\\notebooks\\patchwork\\game.py:104\u001b[0m, in \u001b[0;36mGame.get_valid_moves\u001b[1;34m(self, state)\u001b[0m\n\u001b[0;32m    101\u001b[0m valid_moves\u001b[39m.\u001b[39mextend(\u001b[39mself\u001b[39m\u001b[39m.\u001b[39mget_advance_and_receive_buttons_moves(state))\n\u001b[0;32m    103\u001b[0m \u001b[39m# B: Take and Place a Patch\u001b[39;00m\n\u001b[1;32m--> 104\u001b[0m valid_moves\u001b[39m.\u001b[39mextend(\u001b[39mself\u001b[39;49m\u001b[39m.\u001b[39;49mget_take_and_place_a_patch_moves(state))\n\u001b[0;32m    106\u001b[0m \u001b[39mreturn\u001b[39;00m valid_moves\n",
      "File \u001b[1;32mc:\\Users\\nicoz\\Dev\\Studienarbeit\\code\\notebooks\\patchwork\\game.py:183\u001b[0m, in \u001b[0;36mGame.get_take_and_place_a_patch_moves\u001b[1;34m(self, state)\u001b[0m\n\u001b[0;32m    180\u001b[0m     \u001b[39mcontinue\u001b[39;00m\n\u001b[0;32m    182\u001b[0m \u001b[39mfor\u001b[39;00m new_player_quilt_board \u001b[39min\u001b[39;00m new_player_quilt_boards:\n\u001b[1;32m--> 183\u001b[0m     \u001b[39mself\u001b[39;49m\u001b[39m.\u001b[39;49mget_take_and_place_a_patch_move()\n\u001b[0;32m    184\u001b[0m     \u001b[39mprint\u001b[39m(\u001b[39m'\u001b[39m\u001b[39mhihih\u001b[39m\u001b[39m'\u001b[39m)\n\u001b[0;32m    185\u001b[0m     \u001b[39m# TODO:\u001b[39;00m\n\u001b[0;32m    186\u001b[0m     \u001b[39m# new_state = state.copy()\u001b[39;00m\n\u001b[0;32m    187\u001b[0m     \u001b[39m# new_state.pieces.remove(piece)\u001b[39;00m\n\u001b[0;32m    188\u001b[0m     \u001b[39m# new_state.switch_current_player()\u001b[39;00m\n\u001b[0;32m    189\u001b[0m     \u001b[39m# valid_moves.append(new_state)\u001b[39;00m\n",
      "\u001b[1;31mTypeError\u001b[0m: Game.get_take_and_place_a_patch_move() missing 3 required positional arguments: 'state', 'piece', and 'new_player_quilt_board'"
     ]
    }
   ],
   "source": [
    "from patchwork import Game as PatchworkGame\n",
    "\n",
    "game = PatchworkGame()\n",
    "state = game.get_initial_state(seed=42)\n",
    "print(len(game.get_valid_moves(state)))"
   ]
  }
 ],
 "metadata": {
  "kernelspec": {
   "display_name": "kernel",
   "language": "python",
   "name": "python3"
  },
  "language_info": {
   "codemirror_mode": {
    "name": "ipython",
    "version": 3
   },
   "file_extension": ".py",
   "mimetype": "text/x-python",
   "name": "python",
   "nbconvert_exporter": "python",
   "pygments_lexer": "ipython3",
   "version": "3.11.5"
  }
 },
 "nbformat": 4,
 "nbformat_minor": 5
}
