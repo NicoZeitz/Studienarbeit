{
 "cells": [
  {
   "cell_type": "code",
   "execution_count": 38,
   "metadata": {
    "vscode": {
     "languageId": "rust"
    }
   },
   "outputs": [],
   "source": [
    ":dep candle-core = { version = \"0.5.1\", features = [], git = \"https://github.com//huggingface/candle.git\" }\n",
    ":dep candle-nn = { version = \"0.5.1\", features = [], git = \"https://github.com//huggingface/candle.git\" }"
   ]
  },
  {
   "cell_type": "code",
   "execution_count": 39,
   "metadata": {
    "vscode": {
     "languageId": "rust"
    }
   },
   "outputs": [],
   "source": [
    "use candle_core::{DType, Device, Module, Tensor, Result};\n",
    "use candle_nn::{Embedding, VarMap, VarBuilder, var_builder::*};"
   ]
  },
  {
   "cell_type": "code",
   "execution_count": 46,
   "metadata": {
    "vscode": {
     "languageId": "rust"
    }
   },
   "outputs": [],
   "source": [
    "let vm = VarMap::new();\n",
    "let vb = VarBuilder::from_varmap(&vm, DType::F32, &Device::Cpu);"
   ]
  },
  {
   "cell_type": "code",
   "execution_count": 47,
   "metadata": {
    "vscode": {
     "languageId": "rust"
    }
   },
   "outputs": [],
   "source": [
    "let patch_embeddings = candle_nn::embedding(33, 81, vb).unwrap();\n",
    "let patch_ids = Tensor::from_slice(&[0u8], (1,), &Device::Cpu).unwrap();"
   ]
  },
  {
   "cell_type": "code",
   "execution_count": 50,
   "metadata": {
    "vscode": {
     "languageId": "rust"
    }
   },
   "outputs": [
    {
     "data": {
      "text/plain": [
       "Tensor[dims 1, 81; f32]"
      ]
     },
     "execution_count": 50,
     "metadata": {},
     "output_type": "execute_result"
    }
   ],
   "source": [
    "patch_embeddings.forward(&patch_ids).unwrap()"
   ]
  },
  {
   "cell_type": "code",
   "execution_count": 61,
   "metadata": {
    "vscode": {
     "languageId": "rust"
    }
   },
   "outputs": [
    {
     "data": {
      "text/plain": [
       "Tensor[dims 3, 3, 2; f32]"
      ]
     },
     "execution_count": 61,
     "metadata": {},
     "output_type": "execute_result"
    }
   ],
   "source": [
    "let tensor_1 = Tensor::from_slice(&[20f32, 10f32, 0f32, 0.1, 0.2, 0.3, 0.1, 0.2, 0.3], (3,3), &Device::Cpu).unwrap();\n",
    "let tensor_2 = Tensor::from_slice(&[20f32, 10f32, 0f32, 0.1, 0.2, 0.3, 0.1, 0.2, 0.3], (3,3), &Device::Cpu).unwrap();\n",
    "Tensor::stack(&[&tensor_1, &tensor_2], 2).unwrap()"
   ]
  }
 ],
 "metadata": {
  "kernelspec": {
   "display_name": "Rust",
   "language": "rust",
   "name": "rust"
  },
  "language_info": {
   "codemirror_mode": "rust",
   "file_extension": ".rs",
   "mimetype": "text/rust",
   "name": "Rust",
   "pygment_lexer": "rust",
   "version": ""
  }
 },
 "nbformat": 4,
 "nbformat_minor": 2
}
