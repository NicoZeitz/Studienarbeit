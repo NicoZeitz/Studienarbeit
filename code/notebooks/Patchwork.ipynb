{
 "cells": [
  {
   "cell_type": "code",
   "execution_count": null,
   "id": "c21f7a51-f4a3-45d8-895e-7ee745c4a84e",
   "metadata": {},
   "outputs": [],
   "source": []
  },
  {
   "cell_type": "code",
   "execution_count": 1,
   "id": "6c8797a3-2167-44ce-9ea3-7219836f348a",
   "metadata": {},
   "outputs": [
    {
     "name": "stdout",
     "output_type": "stream",
     "text": [
      "======================= GAME ENDED AFTER 49 TURNS =======================\n",
      "Current player is Player 1 (Nico/Fabian)\n",
      "\n",
      "Player 'Player 1 (Nico/Fabian)' (button balance: 55):  │  Player 'Player 2 (Random)' (button balance: 32):\n",
      "░██░░░░░░                                              │  ░░██████░\n",
      "░░█░░░░░░                                              │  ░███████░\n",
      "░██░░██░░                                              │  ████░███░\n",
      "███░████░                                              │  ███░█████\n",
      "███░█████                                              │  █████████\n",
      "███░░░█░█                                              │  ░████████\n",
      "██░░░░░░█                                              │  █░██░███░\n",
      "█░░░░░░██                                              │  ████████░\n",
      "████░░░░░                                              │  ███░█░░█░\n",
      "Button income: 6                                       │  Button income: 6\n",
      "\n",
      "Time board:\n",
      "┌─┬─┬─┬─┬─┬─┬─┬─┬─┬─┬─┬─┬─┬─┬─┬─┬─┬─┬─┬─┬─┬─┬─┬─┬─┬─┬─┬─┬─┬─┬─┬─┬─┬─┬─┬─┬─┬─┬─┬─┬─┬─┬─┬─┬─┬─┬─┬─┬─┬─┬─┬─┬─┬───┐\n",
      "│ │ │ │ │ │B│ │ │ │ │ │B│ │ │ │ │ │B│ │ │ │ │ │B│ │ │ │ │ │B│ │ │ │ │ │B│ │ │ │ │ │B│ │ │ │ │ │B│ │ │ │ │ │12B│\n",
      "└─┴─┴─┴─┴─┴─┴─┴─┴─┴─┴─┴─┴─┴─┴─┴─┴─┴─┴─┴─┴─┴─┴─┴─┴─┴─┴─┴─┴─┴─┴─┴─┴─┴─┴─┴─┴─┴─┴─┴─┴─┴─┴─┴─┴─┴─┴─┴─┴─┴─┴─┴─┴─┴───┘\n",
      "Next 3 patches:\n",
      "█                  █                               \n",
      "██                 █                  █            \n",
      "██                ██                █████          \n",
      " █                █                   █            \n",
      "Income: 0         Income: 1         Income: 1      \n",
      "Button cost: 4    Button cost: 2    Button cost: 1 \n",
      "Time cost: 2      Time cost: 3      Time cost: 4   \n",
      "                                                   \n",
      "\n",
      "\n",
      "\n",
      "Draw\n",
      "Game took 49 turns\n",
      "Player 'Player 1 (Nico/Fabian)' score: -33\n",
      "Player 'Player 2 (Random)' score: -2\n",
      "Average get_next_state time: 6.227461224458535ms\n",
      "Average get_value_and_terminated time: 0.003604081531212076ms\n",
      "Average get_player_1_action time: 13367.796677272758ms\n",
      "Average get_player_2_action time: 1.1543703703190895ms\n"
     ]
    }
   ],
   "source": [
    "%load_ext autoreload\n",
    "%autoreload 2\n",
    "\n",
    "from patchwork import GameLoop, MCTSPlayer, RandomPlayer, HumanPlayer\n",
    "\n",
    "GameLoop.run(\n",
    "    sleep=0.4,\n",
    "    player_1=HumanPlayer(name=\"Player 1 (Nico/Fabian)\"),\n",
    "    player_2=RandomPlayer(name=\"Player 2 (Random)\"),\n",
    ")"
   ]
  }
 ],
 "metadata": {
  "kernelspec": {
   "display_name": "Python [conda env:kernel]",
   "language": "python",
   "name": "conda-env-kernel-py"
  },
  "language_info": {
   "codemirror_mode": {
    "name": "ipython",
    "version": 3
   },
   "file_extension": ".py",
   "mimetype": "text/x-python",
   "name": "python",
   "nbconvert_exporter": "python",
   "pygments_lexer": "ipython3",
   "version": "3.11.5"
  }
 },
 "nbformat": 4,
 "nbformat_minor": 5
}
