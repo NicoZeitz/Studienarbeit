{
 "cells": [
  {
   "cell_type": "code",
   "execution_count": null,
   "id": "c21f7a51-f4a3-45d8-895e-7ee745c4a84e",
   "metadata": {},
   "outputs": [],
   "source": []
  },
  {
   "cell_type": "code",
   "execution_count": null,
   "id": "9489c158-e411-4ae8-a7b8-f096961b4513",
   "metadata": {},
   "outputs": [],
   "source": []
  },
  {
   "cell_type": "code",
   "execution_count": 1,
   "id": "6c8797a3-2167-44ce-9ea3-7219836f348a",
   "metadata": {},
   "outputs": [
    {
     "data": {
      "text/html": [
       "<style></style>"
      ]
     },
     "metadata": {},
     "output_type": "display_data"
    },
    {
     "name": "stdout",
     "output_type": "stream",
     "text": [
      "======================= TURN 20 =======================\n",
      "Current player is Player 1 (Nico/Fabian)\n",
      "\n",
      "Player 'Player 1 (Nico/Fabian)' (button balance: 15):  │  Player 'Player 2 (Random)' (button balance: 1):\n",
      "███████░█                                              │  ░░███░░░░\n",
      "░░░░░████                                              │  ░█████░░░\n",
      "░░░░░█░░░                                              │  ░░█████░░\n",
      "░░░░░░░░░                                              │  ░░░███░░░\n",
      "░░░░░░░░░                                              │  ░█░░███░░\n",
      "░░░░░░░░░                                              │  ██░░██░░░\n",
      "░░░░░░░░░                                              │  ██░░██░░░\n",
      "░░░░░░░░░                                              │  █░░░█░░░░\n",
      "░░░░░░░░░                                              │  ░░░░█░░░░\n",
      "Button income: 1                                       │  Button income: 3\n",
      "\n",
      "Time board:\n",
      "┌─┬─┬─┬─┬─┬─┬─┬─┬─┬─┬─┬─┬─┬─┬─┬─┬─┬─┬─┬─┬─┬─┬─┬─┬─┬─┬─┬─┬─┬─┬─┬─┬─┬─┬─┬─┬─┬─┬─┬─┬─┬─┬─┬─┬─┬─┬─┬─┬─┬─┬─┬─┬─┬─┐\n",
      "│ │ │ │ │ │B│ │ │ │ │ │B│ │ │ │ │ │B│ │ │1│ │2│B│ │ │P│ │ │B│ │ │P│ │ │B│ │ │P│ │ │B│ │ │P│ │ │B│ │ │P│ │ │B│\n",
      "└─┴─┴─┴─┴─┴─┴─┴─┴─┴─┴─┴─┴─┴─┴─┴─┴─┴─┴─┴─┴─┴─┴─┴─┴─┴─┴─┴─┴─┴─┴─┴─┴─┴─┴─┴─┴─┴─┴─┴─┴─┴─┴─┴─┴─┴─┴─┴─┴─┴─┴─┴─┴─┴─┘\n",
      "Next 3 patches:\n",
      " █                  █                █             \n",
      "██                █████             ██             \n",
      " █                  █               █              \n",
      "Income: 0         Income: 1         Income: 1      \n",
      "Button cost: 2    Button cost: 1    Button cost: 3 \n",
      "Time cost: 2      Time cost: 4      Time cost: 2   \n",
      "                                                   \n"
     ]
    },
    {
     "name": "stdin",
     "output_type": "stream",
     "text": [
      "Player 'Player 1 (Nico/Fabian)' can chose one of the following actions: take 1, take 2, take 3, walk. Please enter the action: take 1\n",
      "You chose to place the following patch: \n",
      " █\n",
      "██\n",
      " █\n",
      "Income: 0\n",
      "Button cost: 2\n",
      "Time cost: 2\n",
      "\n",
      "Please enter the  rotation (0, 90, 180, 270) and orientation (if flipped: y/n) of the patch: 0,y\n",
      "Rotation 'Rotation.ZERO' and Orientation 'Orientation.FLIPPED' is not valid. Please enter a valid rotation and orientation. You chose to place the following patch: \n",
      " █\n",
      "██\n",
      " █\n",
      "Income: 0\n",
      "Button cost: 2\n",
      "Time cost: 2\n",
      "\n",
      "Please enter the  rotation (0, 90, 180, 270) and orientation (if flipped: y/n) of the patch: 180,n\n",
      "Please enter the row and column of the patch (row, column): 132132\n",
      "Please enter 'row, column'. Please enter the row and column of the patch (row, column): exit\n"
     ]
    },
    {
     "ename": "KeyboardInterrupt",
     "evalue": "",
     "output_type": "error",
     "traceback": [
      "\u001b[1;31m---------------------------------------------------------------------------\u001b[0m",
      "\u001b[1;31mKeyboardInterrupt\u001b[0m                         Traceback (most recent call last)",
      "Cell \u001b[1;32mIn[1], line 6\u001b[0m\n\u001b[0;32m      2\u001b[0m get_ipython()\u001b[38;5;241m.\u001b[39mrun_line_magic(\u001b[38;5;124m'\u001b[39m\u001b[38;5;124mautoreload\u001b[39m\u001b[38;5;124m'\u001b[39m, \u001b[38;5;124m'\u001b[39m\u001b[38;5;124m2\u001b[39m\u001b[38;5;124m'\u001b[39m)\n\u001b[0;32m      4\u001b[0m \u001b[38;5;28;01mfrom\u001b[39;00m \u001b[38;5;21;01mpatchwork\u001b[39;00m \u001b[38;5;28;01mimport\u001b[39;00m GameLoop, MCTSPlayer, RandomPlayer, HumanPlayer\n\u001b[1;32m----> 6\u001b[0m \u001b[43mGameLoop\u001b[49m\u001b[38;5;241;43m.\u001b[39;49m\u001b[43mrun\u001b[49m\u001b[43m(\u001b[49m\n\u001b[0;32m      7\u001b[0m \u001b[43m    \u001b[49m\u001b[43msleep\u001b[49m\u001b[38;5;241;43m=\u001b[39;49m\u001b[38;5;241;43m0.4\u001b[39;49m\u001b[43m,\u001b[49m\n\u001b[0;32m      8\u001b[0m \u001b[43m    \u001b[49m\u001b[43mplayer_1\u001b[49m\u001b[38;5;241;43m=\u001b[39;49m\u001b[43mHumanPlayer\u001b[49m\u001b[43m(\u001b[49m\u001b[43mname\u001b[49m\u001b[38;5;241;43m=\u001b[39;49m\u001b[38;5;124;43m\"\u001b[39;49m\u001b[38;5;124;43mPlayer 1 (Nico/Fabian)\u001b[39;49m\u001b[38;5;124;43m\"\u001b[39;49m\u001b[43m)\u001b[49m\u001b[43m,\u001b[49m\n\u001b[0;32m      9\u001b[0m \u001b[43m    \u001b[49m\u001b[43mplayer_2\u001b[49m\u001b[38;5;241;43m=\u001b[39;49m\u001b[43mRandomPlayer\u001b[49m\u001b[43m(\u001b[49m\u001b[43mname\u001b[49m\u001b[38;5;241;43m=\u001b[39;49m\u001b[38;5;124;43m\"\u001b[39;49m\u001b[38;5;124;43mPlayer 2 (Random)\u001b[39;49m\u001b[38;5;124;43m\"\u001b[39;49m\u001b[43m)\u001b[49m\u001b[43m,\u001b[49m\n\u001b[0;32m     10\u001b[0m \u001b[43m)\u001b[49m\n",
      "File \u001b[1;32m~\\Dev\\Studienarbeit\\code\\notebooks\\patchwork\\game_loop.py:59\u001b[0m, in \u001b[0;36mGameLoop.run\u001b[1;34m(seed, sleep, player_1, player_2)\u001b[0m\n\u001b[0;32m     57\u001b[0m \u001b[38;5;28;01mif\u001b[39;00m state\u001b[38;5;241m.\u001b[39mcurrent_active_player \u001b[38;5;241m==\u001b[39m CurrentPlayer\u001b[38;5;241m.\u001b[39mPLAYER_1:\n\u001b[0;32m     58\u001b[0m     start_time \u001b[38;5;241m=\u001b[39m timer()\n\u001b[1;32m---> 59\u001b[0m     action \u001b[38;5;241m=\u001b[39m \u001b[43mplayer_1\u001b[49m\u001b[38;5;241;43m.\u001b[39;49m\u001b[43mget_action\u001b[49m\u001b[43m(\u001b[49m\u001b[43mgame\u001b[49m\u001b[43m,\u001b[49m\u001b[43m \u001b[49m\u001b[43mstate\u001b[49m\u001b[43m)\u001b[49m\n\u001b[0;32m     60\u001b[0m     avg_get_player_1_action\u001b[38;5;241m.\u001b[39mappend(timer() \u001b[38;5;241m-\u001b[39m start_time)\n\u001b[0;32m     61\u001b[0m \u001b[38;5;28;01melse\u001b[39;00m:\n",
      "File \u001b[1;32m~\\Dev\\Studienarbeit\\code\\notebooks\\patchwork\\player\\human\\human_player.py:27\u001b[0m, in \u001b[0;36mHumanPlayer.get_action\u001b[1;34m(self, game, state)\u001b[0m\n\u001b[0;32m     24\u001b[0m \u001b[38;5;28;01mif\u001b[39;00m valid_actions[\u001b[38;5;241m0\u001b[39m]\u001b[38;5;241m.\u001b[39mis_special_patch_placement:\n\u001b[0;32m     25\u001b[0m     \u001b[38;5;28;01mreturn\u001b[39;00m \u001b[38;5;28mself\u001b[39m\u001b[38;5;241m.\u001b[39mhandle_special_patch_action(state, valid_actions)\n\u001b[1;32m---> 27\u001b[0m \u001b[38;5;28;01mreturn\u001b[39;00m \u001b[38;5;28;43mself\u001b[39;49m\u001b[38;5;241;43m.\u001b[39;49m\u001b[43mhandle_normal_action\u001b[49m\u001b[43m(\u001b[49m\u001b[43mstate\u001b[49m\u001b[43m,\u001b[49m\u001b[43m \u001b[49m\u001b[43mvalid_actions\u001b[49m\u001b[43m)\u001b[49m\n",
      "File \u001b[1;32m~\\Dev\\Studienarbeit\\code\\notebooks\\patchwork\\player\\human\\human_player.py:109\u001b[0m, in \u001b[0;36mHumanPlayer.handle_normal_action\u001b[1;34m(self, state, valid_actions)\u001b[0m\n\u001b[0;32m    106\u001b[0m     \u001b[38;5;28;01mreturn\u001b[39;00m valid_actions[\u001b[38;5;241m0\u001b[39m]\n\u001b[0;32m    108\u001b[0m \u001b[38;5;28;01mif\u001b[39;00m human_input \u001b[38;5;241m==\u001b[39m \u001b[38;5;124m\"\u001b[39m\u001b[38;5;124mtake 1\u001b[39m\u001b[38;5;124m\"\u001b[39m:\n\u001b[1;32m--> 109\u001b[0m     \u001b[38;5;28;01mreturn\u001b[39;00m \u001b[38;5;28;43mself\u001b[39;49m\u001b[38;5;241;43m.\u001b[39;49m\u001b[43mhandle_place_patch\u001b[49m\u001b[43m(\u001b[49m\u001b[43mstate\u001b[49m\u001b[43m,\u001b[49m\u001b[43m \u001b[49m\u001b[38;5;28;43mlist\u001b[39;49m\u001b[43m(\u001b[49m\u001b[38;5;28;43mfilter\u001b[39;49m\u001b[43m(\u001b[49m\u001b[38;5;28;43;01mlambda\u001b[39;49;00m\u001b[43m \u001b[49m\u001b[43maction\u001b[49m\u001b[43m:\u001b[49m\u001b[43m \u001b[49m\u001b[43maction\u001b[49m\u001b[38;5;241;43m.\u001b[39;49m\u001b[43mpatch_index\u001b[49m\u001b[43m \u001b[49m\u001b[38;5;241;43m==\u001b[39;49m\u001b[43m \u001b[49m\u001b[38;5;241;43m0\u001b[39;49m\u001b[43m,\u001b[49m\u001b[43m \u001b[49m\u001b[43mvalid_actions\u001b[49m\u001b[43m)\u001b[49m\u001b[43m)\u001b[49m\u001b[43m,\u001b[49m\u001b[43m \u001b[49m\u001b[38;5;241;43m0\u001b[39;49m\u001b[43m)\u001b[49m\n\u001b[0;32m    110\u001b[0m \u001b[38;5;28;01melif\u001b[39;00m human_input \u001b[38;5;241m==\u001b[39m \u001b[38;5;124m\"\u001b[39m\u001b[38;5;124mtake 2\u001b[39m\u001b[38;5;124m\"\u001b[39m:\n\u001b[0;32m    111\u001b[0m     \u001b[38;5;28;01mreturn\u001b[39;00m \u001b[38;5;28mself\u001b[39m\u001b[38;5;241m.\u001b[39mhandle_place_patch(state, \u001b[38;5;28mlist\u001b[39m(\u001b[38;5;28mfilter\u001b[39m(\u001b[38;5;28;01mlambda\u001b[39;00m action: action\u001b[38;5;241m.\u001b[39mpatch_index \u001b[38;5;241m==\u001b[39m \u001b[38;5;241m1\u001b[39m, valid_actions)), \u001b[38;5;241m1\u001b[39m)\n",
      "File \u001b[1;32m~\\Dev\\Studienarbeit\\code\\notebooks\\patchwork\\player\\human\\human_player.py:166\u001b[0m, in \u001b[0;36mHumanPlayer.handle_place_patch\u001b[1;34m(self, state, valid_actions, patch_index)\u001b[0m\n\u001b[0;32m    163\u001b[0m now_valid_actions \u001b[38;5;241m=\u001b[39m \u001b[38;5;28mlist\u001b[39m(\u001b[38;5;28mfilter\u001b[39m(\u001b[38;5;28;01mlambda\u001b[39;00m action: action\u001b[38;5;241m.\u001b[39mpatch_index \u001b[38;5;241m==\u001b[39m patch_index \u001b[38;5;129;01mand\u001b[39;00m action\u001b[38;5;241m.\u001b[39mpatch\u001b[38;5;241m.\u001b[39mrotation \u001b[38;5;241m==\u001b[39m rotation \u001b[38;5;129;01mand\u001b[39;00m action\u001b[38;5;241m.\u001b[39mpatch\u001b[38;5;241m.\u001b[39morientation \u001b[38;5;241m==\u001b[39m orientation, valid_actions))\n\u001b[0;32m    165\u001b[0m \u001b[38;5;28;01mif\u001b[39;00m \u001b[38;5;28mlen\u001b[39m(now_valid_actions) \u001b[38;5;241m>\u001b[39m \u001b[38;5;241m0\u001b[39m:\n\u001b[1;32m--> 166\u001b[0m     \u001b[38;5;28;01mreturn\u001b[39;00m \u001b[38;5;28;43mself\u001b[39;49m\u001b[38;5;241;43m.\u001b[39;49m\u001b[43mhandle_place_patch_position\u001b[49m\u001b[43m(\u001b[49m\u001b[43mnow_valid_actions\u001b[49m\u001b[43m)\u001b[49m\n\u001b[0;32m    168\u001b[0m prompt \u001b[38;5;241m=\u001b[39m \u001b[38;5;124mf\u001b[39m\u001b[38;5;124m\"\u001b[39m\u001b[38;5;124mRotation \u001b[39m\u001b[38;5;124m'\u001b[39m\u001b[38;5;132;01m{\u001b[39;00mrotation\u001b[38;5;132;01m}\u001b[39;00m\u001b[38;5;124m'\u001b[39m\u001b[38;5;124m and Orientation \u001b[39m\u001b[38;5;124m'\u001b[39m\u001b[38;5;132;01m{\u001b[39;00morientation\u001b[38;5;132;01m}\u001b[39;00m\u001b[38;5;124m'\u001b[39m\u001b[38;5;124m is not valid. Please enter a valid rotation and orientation. \u001b[39m\u001b[38;5;124m\"\u001b[39m \u001b[38;5;241m+\u001b[39m initial_prompt\n",
      "File \u001b[1;32m~\\Dev\\Studienarbeit\\code\\notebooks\\patchwork\\player\\human\\human_player.py:184\u001b[0m, in \u001b[0;36mHumanPlayer.handle_place_patch_position\u001b[1;34m(self, valid_actions)\u001b[0m\n\u001b[0;32m    182\u001b[0m \u001b[38;5;28;01mwhile\u001b[39;00m \u001b[38;5;28;01mTrue\u001b[39;00m:\n\u001b[0;32m    183\u001b[0m     human_input \u001b[38;5;241m=\u001b[39m \u001b[38;5;28minput\u001b[39m(prompt)\u001b[38;5;241m.\u001b[39mlower()\n\u001b[1;32m--> 184\u001b[0m     \u001b[38;5;28;43mself\u001b[39;49m\u001b[38;5;241;43m.\u001b[39;49m\u001b[43mhandle_exit_input\u001b[49m\u001b[43m(\u001b[49m\u001b[43mhuman_input\u001b[49m\u001b[43m)\u001b[49m\n\u001b[0;32m    186\u001b[0m     human_inputs \u001b[38;5;241m=\u001b[39m re\u001b[38;5;241m.\u001b[39msplit(\u001b[38;5;124m\"\u001b[39m\u001b[38;5;124m[, ]+\u001b[39m\u001b[38;5;124m\"\u001b[39m, human_input)\n\u001b[0;32m    188\u001b[0m     \u001b[38;5;28;01mif\u001b[39;00m \u001b[38;5;28mlen\u001b[39m(human_inputs) \u001b[38;5;241m!=\u001b[39m \u001b[38;5;241m2\u001b[39m:\n",
      "File \u001b[1;32m~\\Dev\\Studienarbeit\\code\\notebooks\\patchwork\\player\\human\\human_player.py:220\u001b[0m, in \u001b[0;36mHumanPlayer.handle_exit_input\u001b[1;34m(self, human_input)\u001b[0m\n\u001b[0;32m    212\u001b[0m \u001b[38;5;250m\u001b[39m\u001b[38;5;124;03m\"\"\"\u001b[39;00m\n\u001b[0;32m    213\u001b[0m \u001b[38;5;124;03mHandles the exit input.\u001b[39;00m\n\u001b[0;32m    214\u001b[0m \n\u001b[0;32m    215\u001b[0m \u001b[38;5;124;03m:param human_input: The human input.\u001b[39;00m\n\u001b[0;32m    216\u001b[0m \u001b[38;5;124;03m:raises KeyboardInterrupt: If the human input is 'exit'.\u001b[39;00m\n\u001b[0;32m    217\u001b[0m \u001b[38;5;124;03m\"\"\"\u001b[39;00m\n\u001b[0;32m    219\u001b[0m \u001b[38;5;28;01mif\u001b[39;00m human_input \u001b[38;5;241m==\u001b[39m \u001b[38;5;124m\"\u001b[39m\u001b[38;5;124mexit\u001b[39m\u001b[38;5;124m\"\u001b[39m:\n\u001b[1;32m--> 220\u001b[0m     \u001b[38;5;28;01mraise\u001b[39;00m \u001b[38;5;167;01mKeyboardInterrupt\u001b[39;00m()\n",
      "\u001b[1;31mKeyboardInterrupt\u001b[0m: "
     ]
    }
   ],
   "source": [
    "%load_ext autoreload\n",
    "%autoreload 2\n",
    "\n",
    "from patchwork import GameLoop, MCTSPlayer, RandomPlayer, HumanPlayer\n",
    "\n",
    "GameLoop.run(\n",
    "    sleep=0.4,\n",
    "    player_1=HumanPlayer(name=\"Player 1 (Nico/Fabian)\"),\n",
    "    player_2=RandomPlayer(name=\"Player 2 (Random)\"),\n",
    ")"
   ]
  }
 ],
 "metadata": {
  "kernelspec": {
   "display_name": "Python [conda env:kernel]",
   "language": "python",
   "name": "conda-env-kernel-py"
  },
  "language_info": {
   "codemirror_mode": {
    "name": "ipython",
    "version": 3
   },
   "file_extension": ".py",
   "mimetype": "text/x-python",
   "name": "python",
   "nbconvert_exporter": "python",
   "pygments_lexer": "ipython3",
   "version": "3.11.5"
  }
 },
 "nbformat": 4,
 "nbformat_minor": 5
}
