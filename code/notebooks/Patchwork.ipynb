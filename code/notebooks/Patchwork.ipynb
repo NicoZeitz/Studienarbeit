{
 "cells": [
  {
   "cell_type": "code",
   "execution_count": null,
   "id": "eebb5c5f-b9ec-46f8-8e9a-30b9cbde450d",
   "metadata": {},
   "outputs": [
    {
     "name": "stdout",
     "output_type": "stream",
     "text": [
      "======================= GAME 0 TURN 32 =======================\n",
      "Current player is Player 1 (Random)\n",
      "\n",
      "Player 'Player 1 (Random)' (button balance: 15):  │  Player 'Player 2 (Random)' (button balance: 2):\n",
      "░░░██░░█░                                         │  ░███░░░░░\n",
      "░░░██░░██                                         │  █████░░░█\n",
      "██░█░░██░                                         │  █░████░██\n",
      "░█████░█░                                         │  █░░███░░░\n",
      "░██░██░░░                                         │  ████░░█░█\n",
      "██████░░░                                         │  ░██░░████\n",
      "░███░███░                                         │  ░███░██░█\n",
      "░████████                                         │  ░█░███░░█\n",
      "░░░░█░░░░                                         │  ░░░█░█░░█\n",
      "Button income: 4                                  │  Button income: 8\n",
      "\n",
      "Time board:\n",
      "┌─┬─┬─┬─┬─┬─┬─┬─┬─┬─┬─┬─┬─┬─┬─┬─┬─┬─┬─┬─┬─┬─┬─┬─┬─┬─┬─┬─┬─┬─┬─┬─┬─┬─┬─┬─┬─┬─┬─┬─┬─┬─┬─┬─┬─┬─┬─┬─┬─┬─┬─┬─┬─┬─┐\n",
      "│ │ │ │ │ │B│ │ │ │ │ │B│ │ │ │ │ │B│ │ │ │ │ │B│ │ │ │ │ │B│ │ │ │ │ │B│ │ │ │1│2│B│ │ │P│ │ │B│ │ │P│ │ │B│\n",
      "└─┴─┴─┴─┴─┴─┴─┴─┴─┴─┴─┴─┴─┴─┴─┴─┴─┴─┴─┴─┴─┴─┴─┴─┴─┴─┴─┴─┴─┴─┴─┴─┴─┴─┴─┴─┴─┴─┴─┴─┴─┴─┴─┴─┴─┴─┴─┴─┴─┴─┴─┴─┴─┴─┘\n",
      "Next 3 patches:\n",
      "                                     ██            \n",
      "█                                    ██            \n",
      "████              ████              ██             \n",
      "Income: 2         Income: 1         Income: 3      \n",
      "Button cost: 10   Button cost: 3    Button cost: 8 \n",
      "Time cost: 3      Time cost: 3      Time cost: 6   \n",
      "                                                   \n",
      "Player 'Player 1 (Random)' chose action: Action 1012 - Patch placement of patch at index 1 at (3, 8)\n"
     ]
    }
   ],
   "source": [
    "%load_ext autoreload\n",
    "%autoreload 2\n",
    "\n",
    "from patchwork import Game as PatchworkGame\n",
    "import numpy as np\n",
    "from timeit import default_timer as timer\n",
    "from patchwork import GameLoop\n",
    "\n",
    "game_loop = GameLoop()\n",
    "game_loop.test(amount=1, sleep=0.4)"
   ]
  }
 ],
 "metadata": {
  "kernelspec": {
   "display_name": "Python [conda env:kernel]",
   "language": "python",
   "name": "conda-env-kernel-py"
  },
  "language_info": {
   "codemirror_mode": {
    "name": "ipython",
    "version": 3
   },
   "file_extension": ".py",
   "mimetype": "text/x-python",
   "name": "python",
   "nbconvert_exporter": "python",
   "pygments_lexer": "ipython3",
   "version": "3.11.5"
  }
 },
 "nbformat": 4,
 "nbformat_minor": 5
}
