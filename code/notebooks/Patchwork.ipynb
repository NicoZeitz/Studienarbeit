{
 "cells": [
  {
   "cell_type": "code",
   "execution_count": 269,
   "id": "fb65ce1a-1f7d-45bf-88ad-a496e13ff1f0",
   "metadata": {},
   "outputs": [
    {
     "name": "stdout",
     "output_type": "stream",
     "text": [
      "The autoreload extension is already loaded. To reload it, use:\n",
      "  %reload_ext autoreload\n",
      "======================= EXCEPTION =======================\n",
      "QuiltBoard.get_valid_actions_for_patch.<locals>.fn() missing 1 required positional argument: 'test'\n",
      "======================= STATE =======================\n",
      "Current player is Player 1 (Random)\n",
      "\n",
      "Player 'Player 1 (Random)' (button balance: 5):  │  Player 'Player 2 (Random)' (button balance: 5):\n",
      "░░░░░░░░░                                        │  ░░░░░░░░░\n",
      "░░░░░░░░░                                        │  ░░░░░░░░░\n",
      "░░░░░░░░░                                        │  ░░░░░░░░░\n",
      "░░░░░░░░░                                        │  ░░░░░░░░░\n",
      "░░░░░░░░░                                        │  ░░░░░░░░░\n",
      "░░░░░░░░░                                        │  ░░░░░░░░░\n",
      "░░░░░░░░░                                        │  ░░░░░░░░░\n",
      "░░░░░░░░░                                        │  ░░░░░░░░░\n",
      "░░░░░░░░░                                        │  ░░░░░░░░░\n",
      "Button income: 0                                 │  Button income: 0\n",
      "\n",
      "Time board:\n",
      "┌──┬─┬─┬─┬─┬─┬─┬─┬─┬─┬─┬─┬─┬─┬─┬─┬─┬─┬─┬─┬─┬─┬─┬─┬─┬─┬─┬─┬─┬─┬─┬─┬─┬─┬─┬─┬─┬─┬─┬─┬─┬─┬─┬─┬─┬─┬─┬─┬─┬─┬─┬─┬─┬─┐\n",
      "│12│ │ │ │ │B│ │ │ │ │ │B│ │ │ │ │ │B│ │ │ │ │ │B│ │ │P│ │ │B│ │ │P│ │ │B│ │ │P│ │ │B│ │ │P│ │ │B│ │ │P│ │ │B│\n",
      "└──┴─┴─┴─┴─┴─┴─┴─┴─┴─┴─┴─┴─┴─┴─┴─┴─┴─┴─┴─┴─┴─┴─┴─┴─┴─┴─┴─┴─┴─┴─┴─┴─┴─┴─┴─┴─┴─┴─┴─┴─┴─┴─┴─┴─┴─┴─┴─┴─┴─┴─┴─┴─┴─┘\n",
      "Next 3 patches:\n",
      "                   █                               \n",
      "                  ███                 █            \n",
      "█████             █ █               ████           \n",
      "Income: 1         Income: 2         Income: 1      \n",
      "Button cost: 7    Button cost: 3    Button cost: 3 \n",
      "Time cost: 1      Time cost: 6      Time cost: 4   \n",
      "                                                   \n",
      "======================= ACTION =======================\n",
      "None\n"
     ]
    },
    {
     "ename": "TypeError",
     "evalue": "QuiltBoard.get_valid_actions_for_patch.<locals>.fn() missing 1 required positional argument: 'test'",
     "output_type": "error",
     "traceback": [
      "\u001b[1;31m---------------------------------------------------------------------------\u001b[0m",
      "\u001b[1;31mTypeError\u001b[0m                                 Traceback (most recent call last)",
      "Cell \u001b[1;32mIn[269], line 10\u001b[0m\n\u001b[0;32m      7\u001b[0m \u001b[38;5;28;01mfrom\u001b[39;00m \u001b[38;5;21;01mpatchwork\u001b[39;00m \u001b[38;5;28;01mimport\u001b[39;00m GameLoop\n\u001b[0;32m      9\u001b[0m game_loop \u001b[38;5;241m=\u001b[39m GameLoop()\n\u001b[1;32m---> 10\u001b[0m \u001b[43mgame_loop\u001b[49m\u001b[38;5;241;43m.\u001b[39;49m\u001b[43mrun\u001b[49m\u001b[43m(\u001b[49m\u001b[43msleep\u001b[49m\u001b[38;5;241;43m=\u001b[39;49m\u001b[38;5;241;43m0.4\u001b[39;49m\u001b[43m)\u001b[49m\n",
      "File \u001b[1;32m~\\Dev\\Studienarbeit\\code\\notebooks\\patchwork\\game_loop.py:43\u001b[0m, in \u001b[0;36mGameLoop.run\u001b[1;34m(self, seed, sleep)\u001b[0m\n\u001b[0;32m     41\u001b[0m \u001b[38;5;28;01mtry\u001b[39;00m:\n\u001b[0;32m     42\u001b[0m     start_time \u001b[38;5;241m=\u001b[39m timer()\n\u001b[1;32m---> 43\u001b[0m     valid_actions \u001b[38;5;241m=\u001b[39m \u001b[43mgame\u001b[49m\u001b[38;5;241;43m.\u001b[39;49m\u001b[43mget_valid_actions\u001b[49m\u001b[43m(\u001b[49m\u001b[43mstate\u001b[49m\u001b[43m)\u001b[49m\n\u001b[0;32m     44\u001b[0m     avg_get_valid_actions\u001b[38;5;241m.\u001b[39mappend(timer() \u001b[38;5;241m-\u001b[39m start_time)\n\u001b[0;32m     46\u001b[0m     clear_output(wait\u001b[38;5;241m=\u001b[39m\u001b[38;5;28;01mTrue\u001b[39;00m)\n",
      "File \u001b[1;32m~\\Dev\\Studienarbeit\\code\\notebooks\\patchwork\\game.py:120\u001b[0m, in \u001b[0;36mGame.get_valid_actions\u001b[1;34m(self, state)\u001b[0m\n\u001b[0;32m    117\u001b[0m valid_actions\u001b[38;5;241m.\u001b[39mappend(Action\u001b[38;5;241m.\u001b[39mwalking())\n\u001b[0;32m    119\u001b[0m \u001b[38;5;66;03m# B: Take and Place a Patch\u001b[39;00m\n\u001b[1;32m--> 120\u001b[0m valid_actions\u001b[38;5;241m.\u001b[39mextend(\u001b[38;5;28;43mself\u001b[39;49m\u001b[38;5;241;43m.\u001b[39;49m\u001b[43m_get_take_and_place_a_patch_actions\u001b[49m\u001b[43m(\u001b[49m\u001b[43mstate\u001b[49m\u001b[43m)\u001b[49m)\n\u001b[0;32m    122\u001b[0m \u001b[38;5;28;01mreturn\u001b[39;00m valid_actions\n",
      "File \u001b[1;32m~\\Dev\\Studienarbeit\\code\\notebooks\\patchwork\\game.py:255\u001b[0m, in \u001b[0;36mGame._get_take_and_place_a_patch_actions\u001b[1;34m(self, state)\u001b[0m\n\u001b[0;32m    252\u001b[0m     \u001b[38;5;28;01mif\u001b[39;00m patch\u001b[38;5;241m.\u001b[39mbutton_cost \u001b[38;5;241m>\u001b[39m state\u001b[38;5;241m.\u001b[39mcurrent_player\u001b[38;5;241m.\u001b[39mbutton_balance:\n\u001b[0;32m    253\u001b[0m         \u001b[38;5;28;01mcontinue\u001b[39;00m\n\u001b[1;32m--> 255\u001b[0m     valid_actions\u001b[38;5;241m.\u001b[39mextend(\u001b[43mstate\u001b[49m\u001b[38;5;241;43m.\u001b[39;49m\u001b[43mcurrent_player\u001b[49m\u001b[38;5;241;43m.\u001b[39;49m\u001b[43mquilt_board\u001b[49m\u001b[38;5;241;43m.\u001b[39;49m\u001b[43mget_valid_actions_for_patch\u001b[49m\u001b[43m(\u001b[49m\u001b[43mpatch\u001b[49m\u001b[43m,\u001b[49m\u001b[43m \u001b[49m\u001b[43mindex\u001b[49m\u001b[43m)\u001b[49m)\n\u001b[0;32m    257\u001b[0m \u001b[38;5;28;01mreturn\u001b[39;00m valid_actions\n",
      "File \u001b[1;32m~\\Dev\\Studienarbeit\\code\\notebooks\\patchwork\\quilt_board.py:89\u001b[0m, in \u001b[0;36mQuiltBoard.get_valid_actions_for_patch\u001b[1;34m(self, patch, patch_index)\u001b[0m\n\u001b[0;32m     83\u001b[0m         (row, column) \u001b[38;5;241m=\u001b[39m position\n\u001b[0;32m     84\u001b[0m         \u001b[38;5;28;01mreturn\u001b[39;00m Action(\n\u001b[0;32m     85\u001b[0m             transformed_patch,\n\u001b[0;32m     86\u001b[0m             PatchPosition(row, column),\n\u001b[0;32m     87\u001b[0m             patch_index)\n\u001b[1;32m---> 89\u001b[0m     valid_actions_for_patch\u001b[38;5;241m.\u001b[39mextend(\u001b[43mnp\u001b[49m\u001b[38;5;241;43m.\u001b[39;49m\u001b[43mvectorize\u001b[49m\u001b[43m(\u001b[49m\u001b[43mfn\u001b[49m\u001b[43m,\u001b[49m\u001b[43m \u001b[49m\u001b[43motypes\u001b[49m\u001b[38;5;241;43m=\u001b[39;49m\u001b[43m[\u001b[49m\u001b[43mnp\u001b[49m\u001b[38;5;241;43m.\u001b[39;49m\u001b[43mobject_\u001b[49m\u001b[43m]\u001b[49m\u001b[43m)\u001b[49m\u001b[43m(\u001b[49m\u001b[43mnp\u001b[49m\u001b[38;5;241;43m.\u001b[39;49m\u001b[43margwhere\u001b[49m\u001b[43m(\u001b[49m\u001b[43m(\u001b[49m\u001b[43mcombined_windows\u001b[49m\u001b[43m)\u001b[49m\u001b[43m)\u001b[49m\u001b[43m)\u001b[49m)\n\u001b[0;32m     91\u001b[0m     \u001b[38;5;66;03m# valid_actions_for_patch.extend(map(fn, np.argwhere(combined_windows)))\u001b[39;00m\n\u001b[0;32m     92\u001b[0m \n\u001b[0;32m     93\u001b[0m     \u001b[38;5;66;03m# for (row, column) in np.argwhere(combined_windows):\u001b[39;00m\n\u001b[1;32m   (...)\u001b[0m\n\u001b[0;32m     97\u001b[0m     \u001b[38;5;66;03m#         patch_index\u001b[39;00m\n\u001b[0;32m     98\u001b[0m     \u001b[38;5;66;03m#     ))\u001b[39;00m\n\u001b[0;32m    100\u001b[0m \u001b[38;5;28;01mreturn\u001b[39;00m valid_actions_for_patch\n",
      "File \u001b[1;32m~\\Programs\\mambaforge\\envs\\kernel\\Lib\\site-packages\\numpy\\lib\\function_base.py:2329\u001b[0m, in \u001b[0;36mvectorize.__call__\u001b[1;34m(self, *args, **kwargs)\u001b[0m\n\u001b[0;32m   2326\u001b[0m     vargs \u001b[38;5;241m=\u001b[39m [args[_i] \u001b[38;5;28;01mfor\u001b[39;00m _i \u001b[38;5;129;01min\u001b[39;00m inds]\n\u001b[0;32m   2327\u001b[0m     vargs\u001b[38;5;241m.\u001b[39mextend([kwargs[_n] \u001b[38;5;28;01mfor\u001b[39;00m _n \u001b[38;5;129;01min\u001b[39;00m names])\n\u001b[1;32m-> 2329\u001b[0m \u001b[38;5;28;01mreturn\u001b[39;00m \u001b[38;5;28;43mself\u001b[39;49m\u001b[38;5;241;43m.\u001b[39;49m\u001b[43m_vectorize_call\u001b[49m\u001b[43m(\u001b[49m\u001b[43mfunc\u001b[49m\u001b[38;5;241;43m=\u001b[39;49m\u001b[43mfunc\u001b[49m\u001b[43m,\u001b[49m\u001b[43m \u001b[49m\u001b[43margs\u001b[49m\u001b[38;5;241;43m=\u001b[39;49m\u001b[43mvargs\u001b[49m\u001b[43m)\u001b[49m\n",
      "File \u001b[1;32m~\\Programs\\mambaforge\\envs\\kernel\\Lib\\site-packages\\numpy\\lib\\function_base.py:2412\u001b[0m, in \u001b[0;36mvectorize._vectorize_call\u001b[1;34m(self, func, args)\u001b[0m\n\u001b[0;32m   2409\u001b[0m \u001b[38;5;66;03m# Convert args to object arrays first\u001b[39;00m\n\u001b[0;32m   2410\u001b[0m inputs \u001b[38;5;241m=\u001b[39m [asanyarray(a, dtype\u001b[38;5;241m=\u001b[39m\u001b[38;5;28mobject\u001b[39m) \u001b[38;5;28;01mfor\u001b[39;00m a \u001b[38;5;129;01min\u001b[39;00m args]\n\u001b[1;32m-> 2412\u001b[0m outputs \u001b[38;5;241m=\u001b[39m \u001b[43mufunc\u001b[49m\u001b[43m(\u001b[49m\u001b[38;5;241;43m*\u001b[39;49m\u001b[43minputs\u001b[49m\u001b[43m)\u001b[49m\n\u001b[0;32m   2414\u001b[0m \u001b[38;5;28;01mif\u001b[39;00m ufunc\u001b[38;5;241m.\u001b[39mnout \u001b[38;5;241m==\u001b[39m \u001b[38;5;241m1\u001b[39m:\n\u001b[0;32m   2415\u001b[0m     res \u001b[38;5;241m=\u001b[39m asanyarray(outputs, dtype\u001b[38;5;241m=\u001b[39motypes[\u001b[38;5;241m0\u001b[39m])\n",
      "\u001b[1;31mTypeError\u001b[0m: QuiltBoard.get_valid_actions_for_patch.<locals>.fn() missing 1 required positional argument: 'test'"
     ]
    }
   ],
   "source": [
    "%load_ext autoreload\n",
    "%autoreload 2\n",
    "\n",
    "from patchwork import Game as PatchworkGame\n",
    "import numpy as np\n",
    "from timeit import default_timer as timer\n",
    "from patchwork import GameLoop\n",
    "\n",
    "game_loop = GameLoop()\n",
    "game_loop.run(sleep=0.4)"
   ]
  }
 ],
 "metadata": {
  "kernelspec": {
   "display_name": "Python [conda env:kernel]",
   "language": "python",
   "name": "conda-env-kernel-py"
  },
  "language_info": {
   "codemirror_mode": {
    "name": "ipython",
    "version": 3
   },
   "file_extension": ".py",
   "mimetype": "text/x-python",
   "name": "python",
   "nbconvert_exporter": "python",
   "pygments_lexer": "ipython3",
   "version": "3.11.5"
  }
 },
 "nbformat": 4,
 "nbformat_minor": 5
}
