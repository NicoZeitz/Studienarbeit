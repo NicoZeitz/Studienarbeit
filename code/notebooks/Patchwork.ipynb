{
 "cells": [
  {
   "cell_type": "code",
   "execution_count": 5,
   "id": "6c8797a3-2167-44ce-9ea3-7219836f348a",
   "metadata": {},
   "outputs": [
    {
     "name": "stdout",
     "output_type": "stream",
     "text": [
      "======================= GAME 0 ENDED AFTER 43 TURNS =======================\n",
      "Current player is Player 1 (Human)\n",
      "\n",
      "Player 'Player 1 (Human)' (button balance: 30):  │  Player 'Player 2 (Human)' (button balance: 26):\n",
      "███░░░███                                        │  █░███░░░░\n",
      "█████████                                        │  ░████████\n",
      "████████░                                        │  █████████\n",
      "░███░███░                                        │  ██░██████\n",
      "░████████                                        │  ██░██████\n",
      "█████░██░                                        │  █░█░░████\n",
      "█░░█████░                                        │  █░██░░█░░\n",
      "██░█░████                                        │  ████████░\n",
      "████░░░█░                                        │  ░██░░░░░░\n",
      "Button income: 14                                │  Button income: 12\n",
      "\n",
      "Time board:\n",
      "┌─┬─┬─┬─┬─┬─┬─┬─┬─┬─┬─┬─┬─┬─┬─┬─┬─┬─┬─┬─┬─┬─┬─┬─┬─┬─┬─┬─┬─┬─┬─┬─┬─┬─┬─┬─┬─┬─┬─┬─┬─┬─┬─┬─┬─┬─┬─┬─┬─┬─┬─┬─┬─┬───┐\n",
      "│ │ │ │ │ │B│ │ │ │ │ │B│ │ │ │ │ │B│ │ │ │ │ │B│ │ │ │ │ │B│ │ │ │ │ │B│ │ │ │ │ │B│ │ │ │ │ │B│ │ │ │ │ │12B│\n",
      "└─┴─┴─┴─┴─┴─┴─┴─┴─┴─┴─┴─┴─┴─┴─┴─┴─┴─┴─┴─┴─┴─┴─┴─┴─┴─┴─┴─┴─┴─┴─┴─┴─┴─┴─┴─┴─┴─┴─┴─┴─┴─┴─┴─┴─┴─┴─┴─┴─┴─┴─┴─┴─┴───┘\n",
      "Next 3 patches:\n",
      "  █                █                 █             \n",
      "█████             ████               █             \n",
      "  █                █                ███            \n",
      "Income: 1         Income: 1         Income: 2      \n",
      "Button cost: 1    Button cost: 0    Button cost: 5 \n",
      "Time cost: 4      Time cost: 3      Time cost: 5   \n",
      "                                                   \n",
      "\n",
      "\n",
      "\n",
      "Draw\n",
      "Game took 43 turns\n",
      "Player 'Player 1 (Human)' score: -8\n",
      "Player 'Player 2 (Human)' score: -22\n",
      "Average get_valid_actions time: 0.7293744186659582ms\n",
      "Average get_next_state time: 0.20097674437132554ms\n",
      "Average get_value_and_terminated time: 0.003699999915836595ms\n",
      "Average get_player_1_action time: 3651.946859090293ms\n",
      "Average get_player_2_action time: 23634.06901428728ms\n"
     ]
    }
   ],
   "source": [
    "%load_ext autoreload\n",
    "%autoreload 2\n",
    "\n",
    "from patchwork import Game as PatchworkGame, MCTSPlayer, RandomPlayer, HumanPlayer\n",
    "import numpy as np\n",
    "from timeit import default_timer as timer\n",
    "from patchwork import GameLoop\n",
    "\n",
    "game_loop = GameLoop()\n",
    "game_loop.run(\n",
    "    sleep=0.4,\n",
    "    player_1=RandomPlayer(name=\"Player 1 (Random)\"),\n",
    "    player_2=MCTSPlayer(name=\"Player 2 (MCTS)\") # RandomPlayer(name=\"Player 2 (Random)\")\n",
    ")"
   ]
  },
  {
   "cell_type": "code",
   "execution_count": null,
   "id": "69e7cd8a-f9ca-4704-bc3c-386022faeef5",
   "metadata": {},
   "outputs": [],
   "source": []
  }
 ],
 "metadata": {
  "kernelspec": {
   "display_name": "Python 3 (ipykernel)",
   "language": "python",
   "name": "python3"
  },
  "language_info": {
   "codemirror_mode": {
    "name": "ipython",
    "version": 3
   },
   "file_extension": ".py",
   "mimetype": "text/x-python",
   "name": "python",
   "nbconvert_exporter": "python",
   "pygments_lexer": "ipython3",
   "version": "3.12.0"
  }
 },
 "nbformat": 4,
 "nbformat_minor": 5
}
