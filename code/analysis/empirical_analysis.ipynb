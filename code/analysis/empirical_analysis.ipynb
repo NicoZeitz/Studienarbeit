{
 "cells": [
  {
   "cell_type": "code",
   "execution_count": 1,
   "metadata": {},
   "outputs": [],
   "source": [
    "import pandas as pd\n",
    "import matplotlib.pyplot as plt\n",
    "import seaborn as sns\n",
    "import numpy as np\n",
    "import os\n",
    "\n",
    "plt.rcParams.update({ \"text.usetex\": True, \"font.family\": \"Helvetica\" })\n",
    "plt.rcParams['mathtext.fontset'] = 'stix'\n",
    "plt.rcParams['font.family'] = 'STIXGeneral'"
   ]
  },
  {
   "cell_type": "markdown",
   "metadata": {},
   "source": [
    "[Memory Limit in Windows](https://stackoverflow.com/questions/57507832/unable-to-allocate-array-with-shape-and-data-type)"
   ]
  },
  {
   "cell_type": "code",
   "execution_count": 2,
   "metadata": {},
   "outputs": [],
   "source": [
    "aspect_ratio = 16 / 9\n",
    "dpi = 1200\n",
    "\n",
    "results_dir = f'../../T3_3101/res/pictures/plots'\n",
    "if not os.path.isdir(results_dir):\n",
    "    os.makedirs(results_dir)"
   ]
  },
  {
   "cell_type": "code",
   "execution_count": 33,
   "metadata": {},
   "outputs": [],
   "source": [
    "def statistical_parameters(df) -> None:\n",
    "    min_value = df.min().iat[0]\n",
    "    max_value = df.max().iat[0]\n",
    "\n",
    "    print(f\"========== {df.columns.values.tolist()[0]} ==========\")\n",
    "    print(f\"MEAN: {df.mean().iat[0]}\")\n",
    "    print(f\"MEDIAN: {df.median().iat[0]}\")\n",
    "    print(f\"MIN: {min_value} (Count: {df.value_counts().loc[min_value].iat[0]})\")\n",
    "    print(f\"MAX: {max_value} (Count: {df.value_counts().loc[max_value].iat[0]})\")\n",
    "    print(f\"VAR: {df.var().iat[0]}\")\n",
    "    print(f\"STDEV: {df.std().iat[0]}\")"
   ]
  },
  {
   "cell_type": "code",
   "execution_count": 34,
   "metadata": {},
   "outputs": [],
   "source": [
    "game_lengths = pd.read_csv(\"./datasets/game_lengths.csv\", names=[\"game_lengths\"], dtype={0:np.uint8})"
   ]
  },
  {
   "cell_type": "code",
   "execution_count": 35,
   "metadata": {},
   "outputs": [],
   "source": [
    "available_actions = pd.read_csv(\"./datasets/available_actions.csv\", names=[\"available_actions\"], dtype={0:np.uint16})"
   ]
  },
  {
   "cell_type": "code",
   "execution_count": 38,
   "metadata": {},
   "outputs": [],
   "source": [
    "game_tree_complexity = pd.read_csv(\"./datasets/game_tree_complexity.csv\", names=[\"game_tree_complexity\"], dtype={0:np.float64})"
   ]
  },
  {
   "cell_type": "code",
   "execution_count": 36,
   "metadata": {},
   "outputs": [
    {
     "name": "stdout",
     "output_type": "stream",
     "text": [
      "========== game_lengths ==========\n",
      "MEAN: 42.8176\n",
      "MEDIAN: 43.0\n",
      "MIN: 34 (Count: 4000)\n",
      "MAX: 54 (Count: 2000)\n",
      "VAR: 8.031931043193113\n",
      "STDEV: 2.834066167751401\n"
     ]
    }
   ],
   "source": [
    "statistical_parameters(game_lengths)"
   ]
  },
  {
   "cell_type": "code",
   "execution_count": 37,
   "metadata": {},
   "outputs": [
    {
     "name": "stdout",
     "output_type": "stream",
     "text": [
      "========== available_actions ==========\n",
      "MEAN: 83.65933586478253\n",
      "MEDIAN: 11.0\n",
      "MIN: 1 (Count: 130760000)\n",
      "MAX: 1345 (Count: 2000)\n",
      "VAR: 22351.213723901034\n",
      "STDEV: 149.50322312211543\n"
     ]
    }
   ],
   "source": [
    "statistical_parameters(available_actions)"
   ]
  },
  {
   "cell_type": "code",
   "execution_count": 39,
   "metadata": {},
   "outputs": [
    {
     "name": "stdout",
     "output_type": "stream",
     "text": [
      "========== game_tree_complexity ==========\n",
      "MEAN: 1.684452088343085e+38\n",
      "MEDIAN: 1.6661604897306006e+38\n",
      "MIN: 4.332579216963305e+34 (Count: 1000)\n",
      "MAX: 3.4026580865044014e+38 (Count: 1000)\n",
      "VAR: 9.586017131667273e+75\n",
      "STDEV: 9.790820768284584e+37\n"
     ]
    }
   ],
   "source": [
    "statistical_parameters(game_tree_complexity)"
   ]
  },
  {
   "cell_type": "code",
   "execution_count": 8,
   "metadata": {},
   "outputs": [
    {
     "data": {
      "text/plain": [
       "2.0770794654079013e+82"
      ]
     },
     "execution_count": 8,
     "metadata": {},
     "output_type": "execute_result"
    }
   ],
   "source": [
    "available_actions.mean().iat[0] ** game_lengths.mean().iat[0]"
   ]
  },
  {
   "cell_type": "code",
   "execution_count": 32,
   "metadata": {},
   "outputs": [
    {
     "data": {
      "image/png": "[encoded data removed]",
      "text/plain": [
       "<Figure size 640x360 with 1 Axes>"
      ]
     },
     "metadata": {},
     "output_type": "display_data"
    },
    {
     "data": {
      "text/plain": [
       "<Figure size 640x480 with 0 Axes>"
      ]
     },
     "metadata": {},
     "output_type": "display_data"
    }
   ],
   "source": [
    "palette = sns.set_palette(sns.color_palette([\"#3274a1\"]))\n",
    "\n",
    "plt.yscale('log', base=10)\n",
    "ax = sns.histplot(\n",
    "    available_actions,\n",
    "    stat='count',\n",
    "    alpha=1,\n",
    "    shrink=1,\n",
    "    color='#3274a1',\n",
    "    edgecolor=None,\n",
    "    linewidth=0,\n",
    "    palette=palette,\n",
    "    kde=False,\n",
    "    #bins=[0,1] + list(np.histogram_bin_edges(available_actions, bins=100, range=(2, 1345))),\n",
    "    bins=np.histogram_bin_edges(available_actions, bins=100, range=(1, 1345)),\n",
    "    log_scale=False\n",
    ")\n",
    "#ax.set_title(\"Anzahl der Verfügbaren Aktionen\")\n",
    "ax.legend([],[], frameon=False)\n",
    "ax.set_xlabel(\"Verfügbare Aktionen\")\n",
    "ax.set_ylabel(\"Anzahl\")\n",
    "\n",
    "\n",
    "fig = plt.gcf()\n",
    "if type(aspect_ratio) == float or type(aspect_ratio) == int:\n",
    "    (width, height) = fig.get_size_inches()\n",
    "    fig.set_size_inches(width, width / aspect_ratio)\n",
    "\n",
    "plt.savefig(f'{results_dir}/available_actions.svg', bbox_inches = 'tight', dpi=dpi)\n",
    "plt.savefig(f'{results_dir}/available_actions.pdf', bbox_inches = 'tight', dpi=dpi)\n",
    "plt.savefig(f'{results_dir}/available_actions.png', bbox_inches = 'tight', dpi=dpi)\n",
    "plt.show()\n",
    "plt.clf()"
   ]
  },
  {
   "cell_type": "code",
   "execution_count": 76,
   "metadata": {},
   "outputs": [
    {
     "data": {
      "image/png": "[encoded data removed]",
      "text/plain": [
       "<Figure size 640x360 with 1 Axes>"
      ]
     },
     "metadata": {},
     "output_type": "display_data"
    },
    {
     "data": {
      "text/plain": [
       "<Figure size 640x480 with 0 Axes>"
      ]
     },
     "metadata": {},
     "output_type": "display_data"
    }
   ],
   "source": [
    "aspect_ratio = 16 / 9\n",
    "dpi = 1200\n",
    "\n",
    "plt.yscale('linear')\n",
    "#plt.yscale('log', base=10)\n",
    "ax = sns.countplot(\n",
    "    game_lengths,\n",
    "    x=\"game_lengths\",\n",
    "    stat='count',\n",
    "    log_scale=False\n",
    ")\n",
    "#ax.set_title(\"Spiellänge der $10$ Millionen Spiele\")\n",
    "ax.set_xlabel(\"Spiellänge (in Plys)\")\n",
    "#ax.set_ylabel(r\"Anzahl (in $\\times 10^{6}$)\")\n",
    "ax.set_ylabel(r\"Anzahl\")\n",
    "#ax.text(0.01, 14, r\"in $1,6 \\cdot 10^{6}$\")\n",
    "\n",
    "fig = plt.gcf()\n",
    "if type(aspect_ratio) == float or type(aspect_ratio) == int:\n",
    "    (width, height) = fig.get_size_inches()\n",
    "    fig.set_size_inches(width, width / aspect_ratio)\n",
    "\n",
    "plt.savefig(f'{results_dir}/game_lengths.svg', bbox_inches = 'tight', dpi=dpi)\n",
    "plt.savefig(f'{results_dir}/game_lengths.pdf', bbox_inches = 'tight', dpi=dpi)\n",
    "plt.savefig(f'{results_dir}/game_lengths.png', bbox_inches = 'tight', dpi=dpi)\n",
    "plt.show()\n",
    "plt.clf()"
   ]
  }
 ],
 "metadata": {
  "kernelspec": {
   "display_name": "Python [conda env:kernel]",
   "language": "python",
   "name": "conda-env-kernel-py"
  },
  "language_info": {
   "codemirror_mode": {
    "name": "ipython",
    "version": 3
   },
   "file_extension": ".py",
   "mimetype": "text/x-python",
   "name": "python",
   "nbconvert_exporter": "python",
   "pygments_lexer": "ipython3",
   "version": "3.11.5"
  }
 },
 "nbformat": 4,
 "nbformat_minor": 4
}
