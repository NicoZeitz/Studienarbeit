{
 "cells": [
  {
   "cell_type": "code",
   "execution_count": 1,
   "metadata": {},
   "outputs": [],
   "source": [
    "import numpy as np"
   ]
  },
  {
   "cell_type": "code",
   "execution_count": 2,
   "metadata": {},
   "outputs": [],
   "source": [
    "cost = np.array([2, 10, 5, 8, 7, 4, 2, 2, 2, 6, 2, 1, 7, 10, 4, 7, 1, 5, 10, 4, 1, 1, 1, 3, 2, 2, 3, 7, 3, 5, 3, 3, 0])\n",
    "time = np.array([1, 4, 3, 6, 6, 2, 1, 3, 2, 5, 3, 2, 2, 5, 6, 4, 5, 4, 3, 2, 4, 3, 2, 1, 2, 2, 2, 1, 3, 5, 6, 4, 3])\n",
    "profit = np.array([0, 3, 1, 3, 3, 0, 0, 0, 0, 2, 1, 0, 2, 3, 2, 2, 1, 2, 2, 1, 1, 0, 0, 0, 0, 0, 1, 1, 1, 2, 2, 1, 1])\n",
    "area = np.array([2, 5, 8, 6, 4, 6, 6, 7, 5, 4, 5, 6, 6, 6, 4, 6, 6, 5, 5, 4, 7, 3, 5, 3, 4, 3, 4, 5, 4, 5, 6, 5, 6])\n",
    "button_income_placements = np.array([4, 10, 16, 22, 28, 34, 40, 46, 52])"
   ]
  },
  {
   "cell_type": "markdown",
   "metadata": {},
   "source": [
    "$2 \\cdot Felder - \\text{KnopfKosten} + \\text{Knopfeinkommen} \\cdot \\alpha$\n"
   ]
  },
  {
   "cell_type": "code",
   "execution_count": 18,
   "metadata": {},
   "outputs": [
    {
     "name": "stdout",
     "output_type": "stream",
     "text": [
      "[ 0  1  2  3  4  5  6  7  8  9 10 11 12 13 14 15 16 17 18 19 20 21 22 23 24 25 26 27 28 29 30 31 32]\n",
      "[ 1 -1  9  1 -2  6  9  9  6 -1  6  9  5  0  0  3  7  3 -1  3 10  2  7  2  4  2  4  3  3  2  5  4 10]\n",
      "[ 1  2 10  4  1  6  9  9  6  1  7  9  7  3  2  5  8  5  1  4 11  2  7  2  4  2  5  4  4  4  7  5 11]\n",
      "[ 1  4  9 18]\n",
      "[13 14]\n"
     ]
    }
   ],
   "source": [
    "np.set_printoptions(linewidth=100000)\n",
    "\n",
    "print(np.arange(0, 33))\n",
    "print(-cost + area * 2 + profit * 1 - time)\n",
    "print(-cost + area * 2 + profit * 2 - time)\n",
    "\n",
    "value = -cost + area * 2 + profit * 1 - time\n",
    "print(np.argwhere(value < 0).squeeze())\n",
    "print(np.argwhere(value == 0).squeeze())\n"
   ]
  }
 ],
 "metadata": {
  "kernelspec": {
   "display_name": "kernel",
   "language": "python",
   "name": "python3"
  },
  "language_info": {
   "codemirror_mode": {
    "name": "ipython",
    "version": 3
   },
   "file_extension": ".py",
   "mimetype": "text/x-python",
   "name": "python",
   "nbconvert_exporter": "python",
   "pygments_lexer": "ipython3",
   "version": "3.11.5"
  }
 },
 "nbformat": 4,
 "nbformat_minor": 2
}
